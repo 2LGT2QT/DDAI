{
 "metadata": {
  "kernelspec": {
   "language": "python",
   "display_name": "Python 3",
   "name": "python3"
  },
  "language_info": {
   "name": "python",
   "version": "3.10.13",
   "mimetype": "text/x-python",
   "codemirror_mode": {
    "name": "ipython",
    "version": 3
   },
   "pygments_lexer": "ipython3",
   "nbconvert_exporter": "python",
   "file_extension": ".py"
  },
  "kaggle": {
   "accelerator": "gpu",
   "dataSources": [
    {
     "sourceId": 8389434,
     "sourceType": "datasetVersion",
     "datasetId": 4989965
    }
   ],
   "dockerImageVersionId": 30699,
   "isInternetEnabled": true,
   "language": "python",
   "sourceType": "notebook",
   "isGpuEnabled": true
  }
 },
 "nbformat_minor": 4,
 "nbformat": 4,
 "cells": [
  {
   "cell_type": "code",
   "source": [
    "import os\n",
    "import tensorflow as tf\n",
    "from tensorflow.keras.optimizers.legacy import RMSprop\n",
    "from tensorflow.keras.preprocessing.image import ImageDataGenerator\n",
    "import matplotlib.pyplot as plt"
   ],
   "metadata": {
    "execution": {
     "iopub.status.busy": "2024-05-12T11:32:55.972074Z",
     "iopub.execute_input": "2024-05-12T11:32:55.973105Z",
     "iopub.status.idle": "2024-05-12T11:32:55.978153Z",
     "shell.execute_reply.started": "2024-05-12T11:32:55.973055Z",
     "shell.execute_reply": "2024-05-12T11:32:55.977198Z"
    },
    "trusted": true,
    "ExecuteTime": {
     "end_time": "2024-05-12T12:23:26.537146Z",
     "start_time": "2024-05-12T12:23:23.098883Z"
    }
   },
   "execution_count": 1,
   "outputs": []
  },
  {
   "cell_type": "code",
   "source": [
    "base_dir = '/Users/sreehari/PycharmProjects/FInal_Project/datasets/Knee'\n",
    "train_dir = os.path.join(base_dir, 'train')\n",
    "val_dir = os.path.join(base_dir, 'val')\n",
    "test_dir = os.path.join(base_dir, 'test')"
   ],
   "metadata": {
    "execution": {
     "iopub.status.busy": "2024-05-12T11:32:55.979983Z",
     "iopub.execute_input": "2024-05-12T11:32:55.980294Z",
     "iopub.status.idle": "2024-05-12T11:32:55.989523Z",
     "shell.execute_reply.started": "2024-05-12T11:32:55.980258Z",
     "shell.execute_reply": "2024-05-12T11:32:55.988491Z"
    },
    "trusted": true,
    "ExecuteTime": {
     "end_time": "2024-05-12T12:23:26.541208Z",
     "start_time": "2024-05-12T12:23:26.538564Z"
    }
   },
   "execution_count": 2,
   "outputs": []
  },
  {
   "cell_type": "code",
   "source": [
    "model = tf.keras.models.Sequential([\n",
    "    tf.keras.layers.Conv2D(16, (3, 3), activation='relu', input_shape=(150, 150, 3)),\n",
    "    tf.keras.layers.MaxPooling2D(2, 2),\n",
    "    tf.keras.layers.Conv2D(32, (3, 3), activation='relu'),\n",
    "    tf.keras.layers.MaxPooling2D(2, 2),\n",
    "    tf.keras.layers.Conv2D(64, (3, 3), activation='relu'),\n",
    "    tf.keras.layers.MaxPooling2D(2, 2),\n",
    "    tf.keras.layers.Flatten(),\n",
    "    tf.keras.layers.Dense(512, activation='relu'),\n",
    "    tf.keras.layers.Dense(1, activation='sigmoid')\n",
    "])"
   ],
   "metadata": {
    "execution": {
     "iopub.status.busy": "2024-05-12T11:32:55.990621Z",
     "iopub.execute_input": "2024-05-12T11:32:55.990926Z",
     "iopub.status.idle": "2024-05-12T11:32:56.115231Z",
     "shell.execute_reply.started": "2024-05-12T11:32:55.990891Z",
     "shell.execute_reply": "2024-05-12T11:32:56.114400Z"
    },
    "trusted": true,
    "ExecuteTime": {
     "end_time": "2024-05-12T12:23:27.887962Z",
     "start_time": "2024-05-12T12:23:26.542145Z"
    }
   },
   "execution_count": 3,
   "outputs": [
    {
     "name": "stdout",
     "output_type": "stream",
     "text": [
      "Metal device set to: Apple M1\n"
     ]
    },
    {
     "name": "stderr",
     "output_type": "stream",
     "text": [
      "2024-05-12 17:53:26.551066: I tensorflow/core/common_runtime/pluggable_device/pluggable_device_factory.cc:305] Could not identify NUMA node of platform GPU ID 0, defaulting to 0. Your kernel may not have been built with NUMA support.\n",
      "2024-05-12 17:53:26.551194: I tensorflow/core/common_runtime/pluggable_device/pluggable_device_factory.cc:271] Created TensorFlow device (/job:localhost/replica:0/task:0/device:GPU:0 with 0 MB memory) -> physical PluggableDevice (device: 0, name: METAL, pci bus id: <undefined>)\n"
     ]
    }
   ]
  },
  {
   "cell_type": "code",
   "source": [
    "model.summary()"
   ],
   "metadata": {
    "execution": {
     "iopub.status.busy": "2024-05-12T12:17:26.248121Z",
     "iopub.execute_input": "2024-05-12T12:17:26.249048Z",
     "iopub.status.idle": "2024-05-12T12:17:26.280045Z",
     "shell.execute_reply.started": "2024-05-12T12:17:26.249012Z",
     "shell.execute_reply": "2024-05-12T12:17:26.278977Z"
    },
    "trusted": true,
    "ExecuteTime": {
     "end_time": "2024-05-12T12:23:27.944364Z",
     "start_time": "2024-05-12T12:23:27.892339Z"
    }
   },
   "execution_count": 4,
   "outputs": [
    {
     "name": "stdout",
     "output_type": "stream",
     "text": [
      "Model: \"sequential\"\n",
      "_________________________________________________________________\n",
      " Layer (type)                Output Shape              Param #   \n",
      "=================================================================\n",
      " conv2d (Conv2D)             (None, 148, 148, 16)      448       \n",
      "                                                                 \n",
      " max_pooling2d (MaxPooling2D  (None, 74, 74, 16)       0         \n",
      " )                                                               \n",
      "                                                                 \n",
      " conv2d_1 (Conv2D)           (None, 72, 72, 32)        4640      \n",
      "                                                                 \n",
      " max_pooling2d_1 (MaxPooling  (None, 36, 36, 32)       0         \n",
      " 2D)                                                             \n",
      "                                                                 \n",
      " conv2d_2 (Conv2D)           (None, 34, 34, 64)        18496     \n",
      "                                                                 \n",
      " max_pooling2d_2 (MaxPooling  (None, 17, 17, 64)       0         \n",
      " 2D)                                                             \n",
      "                                                                 \n",
      " flatten (Flatten)           (None, 18496)             0         \n",
      "                                                                 \n",
      " dense (Dense)               (None, 512)               9470464   \n",
      "                                                                 \n",
      " dense_1 (Dense)             (None, 1)                 513       \n",
      "                                                                 \n",
      "=================================================================\n",
      "Total params: 9,494,561\n",
      "Trainable params: 9,494,561\n",
      "Non-trainable params: 0\n",
      "_________________________________________________________________\n"
     ]
    }
   ]
  },
  {
   "cell_type": "code",
   "source": [
    "model.compile(optimizer=RMSprop(learning_rate=0.001),\n",
    "              loss='binary_crossentropy',\n",
    "              metrics=['accuracy'])"
   ],
   "metadata": {
    "execution": {
     "iopub.status.busy": "2024-05-12T11:32:56.116427Z",
     "iopub.execute_input": "2024-05-12T11:32:56.116706Z",
     "iopub.status.idle": "2024-05-12T11:32:56.126655Z",
     "shell.execute_reply.started": "2024-05-12T11:32:56.116683Z",
     "shell.execute_reply": "2024-05-12T11:32:56.125720Z"
    },
    "trusted": true,
    "ExecuteTime": {
     "end_time": "2024-05-12T12:23:27.990228Z",
     "start_time": "2024-05-12T12:23:27.955458Z"
    }
   },
   "execution_count": 5,
   "outputs": []
  },
  {
   "cell_type": "code",
   "source": [
    "train_datagen = ImageDataGenerator(rescale=1. / 255,\n",
    "                                   rotation_range=40,\n",
    "                                   shear_range=0.2,\n",
    "                                   zoom_range=0.2,\n",
    "                                   horizontal_flip=True)\n",
    "\n",
    "test_datagen = ImageDataGenerator(rescale=1.0 / 255)\n",
    "\n",
    "train_generator = train_datagen.flow_from_directory(train_dir,\n",
    "                                                    batch_size=20,\n",
    "                                                    class_mode='binary',\n",
    "                                                    target_size=(150, 150))\n",
    "\n",
    "validation_generator = test_datagen.flow_from_directory(val_dir,\n",
    "                                                        batch_size=20,\n",
    "                                                        class_mode='binary',\n",
    "                                                        target_size=(150, 150))"
   ],
   "metadata": {
    "execution": {
     "iopub.status.busy": "2024-05-12T11:32:56.129609Z",
     "iopub.execute_input": "2024-05-12T11:32:56.129967Z",
     "iopub.status.idle": "2024-05-12T11:32:56.295577Z",
     "shell.execute_reply.started": "2024-05-12T11:32:56.129932Z",
     "shell.execute_reply": "2024-05-12T11:32:56.294640Z"
    },
    "trusted": true,
    "ExecuteTime": {
     "end_time": "2024-05-12T12:23:28.161010Z",
     "start_time": "2024-05-12T12:23:27.992385Z"
    }
   },
   "execution_count": 6,
   "outputs": [
    {
     "name": "stdout",
     "output_type": "stream",
     "text": [
      "Found 5385 images belonging to 2 classes.\n",
      "Found 614 images belonging to 2 classes.\n"
     ]
    }
   ]
  },
  {
   "cell_type": "code",
   "source": [
    "history = model.fit(\n",
    "    train_generator,\n",
    "    epochs=30,\n",
    "    validation_data=validation_generator,\n",
    "    verbose=2\n",
    ")"
   ],
   "metadata": {
    "execution": {
     "iopub.status.busy": "2024-05-12T11:32:56.296791Z",
     "iopub.execute_input": "2024-05-12T11:32:56.297186Z",
     "iopub.status.idle": "2024-05-12T12:12:06.954306Z",
     "shell.execute_reply.started": "2024-05-12T11:32:56.297149Z",
     "shell.execute_reply": "2024-05-12T12:12:06.953309Z"
    },
    "trusted": true,
    "ExecuteTime": {
     "end_time": "2024-05-12T12:36:34.568604Z",
     "start_time": "2024-05-12T12:23:28.162827Z"
    }
   },
   "execution_count": 7,
   "outputs": [
    {
     "name": "stdout",
     "output_type": "stream",
     "text": [
      "Epoch 1/30\n"
     ]
    },
    {
     "name": "stderr",
     "output_type": "stream",
     "text": [
      "2024-05-12 17:53:28.279599: W tensorflow/core/platform/profile_utils/cpu_utils.cc:128] Failed to get CPU frequency: 0 Hz\n",
      "2024-05-12 17:53:28.875793: I tensorflow/core/grappler/optimizers/custom_graph_optimizer_registry.cc:113] Plugin optimizer for device_type GPU is enabled.\n",
      "loc(\"mps_select\"(\"(mpsFileLoc): /AppleInternal/Library/BuildRoots/0032d1ee-80fd-11ee-8227-6aecfccc70fe/Library/Caches/com.apple.xbs/Sources/MetalPerformanceShadersGraph/mpsgraph/MetalPerformanceShadersGraph/Core/Files/MPSGraphUtilities.mm\":294:0)): error: 'anec.gain_offset_control' op result #0 must be 4D/5D memref of 16-bit float or 8-bit signed integer or 8-bit unsigned integer values, but got 'memref<1x20x1x1xi1>'\n",
      "loc(\"mps_select\"(\"(mpsFileLoc): /AppleInternal/Library/BuildRoots/0032d1ee-80fd-11ee-8227-6aecfccc70fe/Library/Caches/com.apple.xbs/Sources/MetalPerformanceShadersGraph/mpsgraph/MetalPerformanceShadersGraph/Core/Files/MPSGraphUtilities.mm\":294:0)): error: 'anec.gain_offset_control' op result #0 must be 4D/5D memref of 16-bit float or 8-bit signed integer or 8-bit unsigned integer values, but got 'memref<1x20x1x1xi1>'\n",
      "loc(\"mps_select\"(\"(mpsFileLoc): /AppleInternal/Library/BuildRoots/0032d1ee-80fd-11ee-8227-6aecfccc70fe/Library/Caches/com.apple.xbs/Sources/MetalPerformanceShadersGraph/mpsgraph/MetalPerformanceShadersGraph/Core/Files/MPSGraphUtilities.mm\":294:0)): error: 'anec.gain_offset_control' op result #0 must be 4D/5D memref of 16-bit float or 8-bit signed integer or 8-bit unsigned integer values, but got 'memref<1x20x1x1xi1>'\n",
      "loc(\"mps_select\"(\"(mpsFileLoc): /AppleInternal/Library/BuildRoots/0032d1ee-80fd-11ee-8227-6aecfccc70fe/Library/Caches/com.apple.xbs/Sources/MetalPerformanceShadersGraph/mpsgraph/MetalPerformanceShadersGraph/Core/Files/MPSGraphUtilities.mm\":294:0)): error: 'anec.gain_offset_control' op result #0 must be 4D/5D memref of 16-bit float or 8-bit signed integer or 8-bit unsigned integer values, but got 'memref<1x20x1x1xi1>'\n",
      "loc(\"mps_select\"(\"(mpsFileLoc): /AppleInternal/Library/BuildRoots/0032d1ee-80fd-11ee-8227-6aecfccc70fe/Library/Caches/com.apple.xbs/Sources/MetalPerformanceShadersGraph/mpsgraph/MetalPerformanceShadersGraph/Core/Files/MPSGraphUtilities.mm\":294:0)): error: 'anec.gain_offset_control' op result #0 must be 4D/5D memref of 16-bit float or 8-bit signed integer or 8-bit unsigned integer values, but got 'memref<1x20x1x1xi1>'\n",
      "loc(\"mps_select\"(\"(mpsFileLoc): /AppleInternal/Library/BuildRoots/0032d1ee-80fd-11ee-8227-6aecfccc70fe/Library/Caches/com.apple.xbs/Sources/MetalPerformanceShadersGraph/mpsgraph/MetalPerformanceShadersGraph/Core/Files/MPSGraphUtilities.mm\":294:0)): error: 'anec.gain_offset_control' op result #0 must be 4D/5D memref of 16-bit float or 8-bit signed integer or 8-bit unsigned integer values, but got 'memref<1x5x1x1xi1>'\n",
      "loc(\"mps_select\"(\"(mpsFileLoc): /AppleInternal/Library/BuildRoots/0032d1ee-80fd-11ee-8227-6aecfccc70fe/Library/Caches/com.apple.xbs/Sources/MetalPerformanceShadersGraph/mpsgraph/MetalPerformanceShadersGraph/Core/Files/MPSGraphUtilities.mm\":294:0)): error: 'anec.gain_offset_control' op result #0 must be 4D/5D memref of 16-bit float or 8-bit signed integer or 8-bit unsigned integer values, but got 'memref<1x5x1x1xi1>'\n",
      "loc(\"mps_select\"(\"(mpsFileLoc): /AppleInternal/Library/BuildRoots/0032d1ee-80fd-11ee-8227-6aecfccc70fe/Library/Caches/com.apple.xbs/Sources/MetalPerformanceShadersGraph/mpsgraph/MetalPerformanceShadersGraph/Core/Files/MPSGraphUtilities.mm\":294:0)): error: 'anec.gain_offset_control' op result #0 must be 4D/5D memref of 16-bit float or 8-bit signed integer or 8-bit unsigned integer values, but got 'memref<1x5x1x1xi1>'\n",
      "loc(\"mps_select\"(\"(mpsFileLoc): /AppleInternal/Library/BuildRoots/0032d1ee-80fd-11ee-8227-6aecfccc70fe/Library/Caches/com.apple.xbs/Sources/MetalPerformanceShadersGraph/mpsgraph/MetalPerformanceShadersGraph/Core/Files/MPSGraphUtilities.mm\":294:0)): error: 'anec.gain_offset_control' op result #0 must be 4D/5D memref of 16-bit float or 8-bit signed integer or 8-bit unsigned integer values, but got 'memref<1x5x1x1xi1>'\n",
      "loc(\"mps_select\"(\"(mpsFileLoc): /AppleInternal/Library/BuildRoots/0032d1ee-80fd-11ee-8227-6aecfccc70fe/Library/Caches/com.apple.xbs/Sources/MetalPerformanceShadersGraph/mpsgraph/MetalPerformanceShadersGraph/Core/Files/MPSGraphUtilities.mm\":294:0)): error: 'anec.gain_offset_control' op result #0 must be 4D/5D memref of 16-bit float or 8-bit signed integer or 8-bit unsigned integer values, but got 'memref<1x5x1x1xi1>'\n",
      "2024-05-12 17:54:01.894941: I tensorflow/core/grappler/optimizers/custom_graph_optimizer_registry.cc:113] Plugin optimizer for device_type GPU is enabled.\n",
      "loc(\"mps_select\"(\"(mpsFileLoc): /AppleInternal/Library/BuildRoots/0032d1ee-80fd-11ee-8227-6aecfccc70fe/Library/Caches/com.apple.xbs/Sources/MetalPerformanceShadersGraph/mpsgraph/MetalPerformanceShadersGraph/Core/Files/MPSGraphUtilities.mm\":294:0)): error: 'anec.gain_offset_control' op result #0 must be 4D/5D memref of 16-bit float or 8-bit signed integer or 8-bit unsigned integer values, but got 'memref<1x20x1x1xi1>'\n",
      "loc(\"mps_select\"(\"(mpsFileLoc): /AppleInternal/Library/BuildRoots/0032d1ee-80fd-11ee-8227-6aecfccc70fe/Library/Caches/com.apple.xbs/Sources/MetalPerformanceShadersGraph/mpsgraph/MetalPerformanceShadersGraph/Core/Files/MPSGraphUtilities.mm\":294:0)): error: 'anec.gain_offset_control' op result #0 must be 4D/5D memref of 16-bit float or 8-bit signed integer or 8-bit unsigned integer values, but got 'memref<1x20x1x1xi1>'\n"
     ]
    },
    {
     "name": "stdout",
     "output_type": "stream",
     "text": [
      "270/270 - 36s - loss: 0.5672 - accuracy: 0.7736 - val_loss: 0.4667 - val_accuracy: 0.7834 - 36s/epoch - 134ms/step\n",
      "Epoch 2/30\n"
     ]
    },
    {
     "name": "stderr",
     "output_type": "stream",
     "text": [
      "loc(\"mps_select\"(\"(mpsFileLoc): /AppleInternal/Library/BuildRoots/0032d1ee-80fd-11ee-8227-6aecfccc70fe/Library/Caches/com.apple.xbs/Sources/MetalPerformanceShadersGraph/mpsgraph/MetalPerformanceShadersGraph/Core/Files/MPSGraphUtilities.mm\":294:0)): error: 'anec.gain_offset_control' op result #0 must be 4D/5D memref of 16-bit float or 8-bit signed integer or 8-bit unsigned integer values, but got 'memref<1x14x1x1xi1>'\n",
      "loc(\"mps_select\"(\"(mpsFileLoc): /AppleInternal/Library/BuildRoots/0032d1ee-80fd-11ee-8227-6aecfccc70fe/Library/Caches/com.apple.xbs/Sources/MetalPerformanceShadersGraph/mpsgraph/MetalPerformanceShadersGraph/Core/Files/MPSGraphUtilities.mm\":294:0)): error: 'anec.gain_offset_control' op result #0 must be 4D/5D memref of 16-bit float or 8-bit signed integer or 8-bit unsigned integer values, but got 'memref<1x14x1x1xi1>'\n"
     ]
    },
    {
     "name": "stdout",
     "output_type": "stream",
     "text": [
      "270/270 - 30s - loss: 0.4493 - accuracy: 0.8043 - val_loss: 0.3390 - val_accuracy: 0.8746 - 30s/epoch - 110ms/step\n",
      "Epoch 3/30\n",
      "270/270 - 31s - loss: 0.3169 - accuracy: 0.8780 - val_loss: 0.2611 - val_accuracy: 0.8958 - 31s/epoch - 114ms/step\n",
      "Epoch 4/30\n",
      "270/270 - 30s - loss: 0.2570 - accuracy: 0.9014 - val_loss: 0.2631 - val_accuracy: 0.8958 - 30s/epoch - 113ms/step\n",
      "Epoch 5/30\n",
      "270/270 - 29s - loss: 0.2122 - accuracy: 0.9194 - val_loss: 0.2345 - val_accuracy: 0.9202 - 29s/epoch - 106ms/step\n",
      "Epoch 6/30\n",
      "270/270 - 26s - loss: 0.1808 - accuracy: 0.9346 - val_loss: 0.1991 - val_accuracy: 0.9381 - 26s/epoch - 98ms/step\n",
      "Epoch 7/30\n",
      "270/270 - 28s - loss: 0.1625 - accuracy: 0.9409 - val_loss: 0.2065 - val_accuracy: 0.9235 - 28s/epoch - 105ms/step\n",
      "Epoch 8/30\n",
      "270/270 - 29s - loss: 0.1411 - accuracy: 0.9461 - val_loss: 0.2322 - val_accuracy: 0.9137 - 29s/epoch - 106ms/step\n",
      "Epoch 9/30\n",
      "270/270 - 28s - loss: 0.1420 - accuracy: 0.9536 - val_loss: 0.1876 - val_accuracy: 0.9397 - 28s/epoch - 103ms/step\n",
      "Epoch 10/30\n",
      "270/270 - 32s - loss: 0.1305 - accuracy: 0.9573 - val_loss: 0.2520 - val_accuracy: 0.9365 - 32s/epoch - 118ms/step\n",
      "Epoch 11/30\n",
      "270/270 - 29s - loss: 0.1047 - accuracy: 0.9599 - val_loss: 0.2302 - val_accuracy: 0.9365 - 29s/epoch - 107ms/step\n",
      "Epoch 12/30\n",
      "270/270 - 35s - loss: 0.0920 - accuracy: 0.9651 - val_loss: 0.2368 - val_accuracy: 0.9316 - 35s/epoch - 130ms/step\n",
      "Epoch 13/30\n",
      "270/270 - 35s - loss: 0.0860 - accuracy: 0.9712 - val_loss: 0.2783 - val_accuracy: 0.9397 - 35s/epoch - 128ms/step\n",
      "Epoch 14/30\n",
      "270/270 - 29s - loss: 0.0750 - accuracy: 0.9720 - val_loss: 0.2389 - val_accuracy: 0.9365 - 29s/epoch - 108ms/step\n",
      "Epoch 15/30\n",
      "270/270 - 33s - loss: 0.0682 - accuracy: 0.9768 - val_loss: 0.3587 - val_accuracy: 0.9023 - 33s/epoch - 120ms/step\n",
      "Epoch 16/30\n",
      "270/270 - 26s - loss: 0.0653 - accuracy: 0.9775 - val_loss: 0.3709 - val_accuracy: 0.9300 - 26s/epoch - 97ms/step\n",
      "Epoch 17/30\n",
      "270/270 - 23s - loss: 0.0508 - accuracy: 0.9827 - val_loss: 0.3346 - val_accuracy: 0.9300 - 23s/epoch - 85ms/step\n",
      "Epoch 18/30\n",
      "270/270 - 22s - loss: 0.0523 - accuracy: 0.9827 - val_loss: 0.3023 - val_accuracy: 0.9283 - 22s/epoch - 80ms/step\n",
      "Epoch 19/30\n",
      "270/270 - 23s - loss: 0.0477 - accuracy: 0.9848 - val_loss: 0.2902 - val_accuracy: 0.9560 - 23s/epoch - 86ms/step\n",
      "Epoch 20/30\n",
      "270/270 - 23s - loss: 0.0475 - accuracy: 0.9824 - val_loss: 0.4038 - val_accuracy: 0.9365 - 23s/epoch - 86ms/step\n",
      "Epoch 21/30\n",
      "270/270 - 22s - loss: 0.0347 - accuracy: 0.9887 - val_loss: 0.3647 - val_accuracy: 0.9397 - 22s/epoch - 82ms/step\n",
      "Epoch 22/30\n",
      "270/270 - 22s - loss: 0.0320 - accuracy: 0.9885 - val_loss: 0.3630 - val_accuracy: 0.9414 - 22s/epoch - 81ms/step\n",
      "Epoch 23/30\n",
      "270/270 - 19s - loss: 0.0332 - accuracy: 0.9922 - val_loss: 0.3685 - val_accuracy: 0.9511 - 19s/epoch - 71ms/step\n",
      "Epoch 24/30\n",
      "270/270 - 24s - loss: 0.0316 - accuracy: 0.9887 - val_loss: 0.4117 - val_accuracy: 0.9365 - 24s/epoch - 91ms/step\n",
      "Epoch 25/30\n",
      "270/270 - 21s - loss: 0.0353 - accuracy: 0.9929 - val_loss: 0.4126 - val_accuracy: 0.9446 - 21s/epoch - 77ms/step\n",
      "Epoch 26/30\n",
      "270/270 - 27s - loss: 0.0247 - accuracy: 0.9920 - val_loss: 0.4924 - val_accuracy: 0.9414 - 27s/epoch - 101ms/step\n",
      "Epoch 27/30\n",
      "270/270 - 19s - loss: 0.0245 - accuracy: 0.9937 - val_loss: 0.5812 - val_accuracy: 0.9169 - 19s/epoch - 72ms/step\n",
      "Epoch 28/30\n",
      "270/270 - 18s - loss: 0.0205 - accuracy: 0.9931 - val_loss: 0.5508 - val_accuracy: 0.9365 - 18s/epoch - 65ms/step\n",
      "Epoch 29/30\n",
      "270/270 - 18s - loss: 0.0183 - accuracy: 0.9954 - val_loss: 0.7261 - val_accuracy: 0.9365 - 18s/epoch - 66ms/step\n",
      "Epoch 30/30\n",
      "270/270 - 19s - loss: 0.0253 - accuracy: 0.9933 - val_loss: 0.5897 - val_accuracy: 0.9430 - 19s/epoch - 69ms/step\n"
     ]
    }
   ]
  },
  {
   "cell_type": "code",
   "source": [
    "acc = history.history['accuracy']\n",
    "val_acc = history.history['val_accuracy']\n",
    "loss = history.history['loss']\n",
    "val_loss = history.history['val_loss']\n",
    "\n",
    "epochs = range(len(acc))\n",
    "\n",
    "plt.plot(epochs, acc, 'r', label='Training accuracy')\n",
    "plt.plot(epochs, val_acc, 'b', label='Validation accuracy')\n",
    "plt.title('Training and validation accuracy')\n",
    "plt.legend(loc=0)\n",
    "plt.figure()"
   ],
   "metadata": {
    "execution": {
     "iopub.status.busy": "2024-05-12T12:12:06.956079Z",
     "iopub.execute_input": "2024-05-12T12:12:06.956935Z",
     "iopub.status.idle": "2024-05-12T12:12:07.352963Z",
     "shell.execute_reply.started": "2024-05-12T12:12:06.956897Z",
     "shell.execute_reply": "2024-05-12T12:12:07.351932Z"
    },
    "trusted": true,
    "ExecuteTime": {
     "end_time": "2024-05-12T12:36:35.167938Z",
     "start_time": "2024-05-12T12:36:34.595680Z"
    }
   },
   "execution_count": 8,
   "outputs": [
    {
     "data": {
      "text/plain": "<Figure size 640x480 with 0 Axes>"
     },
     "execution_count": 8,
     "metadata": {},
     "output_type": "execute_result"
    },
    {
     "data": {
      "text/plain": "<Figure size 640x480 with 1 Axes>",
      "image/png": "[encoded data removed]"
     },
     "metadata": {},
     "output_type": "display_data"
    },
    {
     "data": {
      "text/plain": "<Figure size 640x480 with 0 Axes>"
     },
     "metadata": {},
     "output_type": "display_data"
    }
   ]
  },
  {
   "cell_type": "code",
   "source": [
    "test_generator = test_datagen.flow_from_directory(\n",
    "    test_dir,\n",
    "    batch_size=20,\n",
    "    class_mode='binary',\n",
    "    target_size=(150, 150)\n",
    ")"
   ],
   "metadata": {
    "execution": {
     "iopub.status.busy": "2024-05-12T12:12:07.354737Z",
     "iopub.execute_input": "2024-05-12T12:12:07.355093Z",
     "iopub.status.idle": "2024-05-12T12:12:07.394554Z",
     "shell.execute_reply.started": "2024-05-12T12:12:07.355061Z",
     "shell.execute_reply": "2024-05-12T12:12:07.393690Z"
    },
    "trusted": true,
    "ExecuteTime": {
     "end_time": "2024-05-12T12:36:35.213530Z",
     "start_time": "2024-05-12T12:36:35.170098Z"
    }
   },
   "execution_count": 9,
   "outputs": [
    {
     "name": "stdout",
     "output_type": "stream",
     "text": [
      "Found 1209 images belonging to 2 classes.\n"
     ]
    }
   ]
  },
  {
   "cell_type": "code",
   "source": [
    "test_loss, test_accuracy = model.evaluate(test_generator)\n",
    "print('Test Loss:', test_loss)\n",
    "print('Test Accuracy:', test_accuracy)"
   ],
   "metadata": {
    "execution": {
     "iopub.status.busy": "2024-05-12T12:12:07.395711Z",
     "iopub.execute_input": "2024-05-12T12:12:07.395998Z",
     "iopub.status.idle": "2024-05-12T12:12:11.486104Z",
     "shell.execute_reply.started": "2024-05-12T12:12:07.395973Z",
     "shell.execute_reply": "2024-05-12T12:12:11.485187Z"
    },
    "trusted": true,
    "ExecuteTime": {
     "end_time": "2024-05-12T12:58:43.805408Z",
     "start_time": "2024-05-12T12:58:41.393416Z"
    }
   },
   "execution_count": 12,
   "outputs": [
    {
     "name": "stdout",
     "output_type": "stream",
     "text": [
      "61/61 [==============================] - 2s 23ms/step - loss: 0.3269 - accuracy: 0.9603\n",
      "Test Loss: 0.3268944025039673\n",
      "Test Accuracy: 0.9602977633476257\n"
     ]
    }
   ]
  },
  {
   "cell_type": "code",
   "source": [
    "model.save('arth.h5')"
   ],
   "metadata": {
    "execution": {
     "iopub.status.busy": "2024-05-12T12:16:25.476517Z",
     "iopub.execute_input": "2024-05-12T12:16:25.476918Z",
     "iopub.status.idle": "2024-05-12T12:16:25.578135Z",
     "shell.execute_reply.started": "2024-05-12T12:16:25.476892Z",
     "shell.execute_reply": "2024-05-12T12:16:25.577297Z"
    },
    "trusted": true,
    "ExecuteTime": {
     "end_time": "2024-05-12T12:36:38.017876Z",
     "start_time": "2024-05-12T12:36:37.811019Z"
    }
   },
   "execution_count": 11,
   "outputs": []
  }
 ]
}
