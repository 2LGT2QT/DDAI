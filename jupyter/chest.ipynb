{
 "cells": [
  {
   "cell_type": "code",
   "outputs": [],
   "source": [
    "import tensorflow as tf\n",
    "from tensorflow.keras.preprocessing.image import ImageDataGenerator\n",
    "from tensorflow.keras.models import Sequential\n",
    "from tensorflow.keras.layers import Conv2D, MaxPooling2D, Flatten, Dense, Dropout\n",
    "from tensorflow.keras.regularizers import l2\n",
    "from sklearn.utils.class_weight import compute_class_weight\n",
    "import numpy as np\n",
    "import os\n",
    "import matplotlib.pyplot as plt"
   ],
   "metadata": {
    "collapsed": false,
    "ExecuteTime": {
     "end_time": "2024-05-11T20:55:04.592827Z",
     "start_time": "2024-05-11T20:55:00.807699Z"
    }
   },
   "id": "791906d69fece683",
   "execution_count": 2
  },
  {
   "cell_type": "code",
   "outputs": [],
   "source": [
    "\n",
    "# --- 1. Data Paths ---\n",
    "base_dir = '/Users/sreehari/PycharmProjects/FInal_Project/datasets/Chest'\n",
    "train_dir = os.path.join(base_dir, 'train')\n",
    "val_dir = os.path.join(base_dir, 'val')\n",
    "test_dir = os.path.join(base_dir, 'test')"
   ],
   "metadata": {
    "collapsed": false,
    "ExecuteTime": {
     "end_time": "2024-05-11T20:55:04.596010Z",
     "start_time": "2024-05-11T20:55:04.593798Z"
    }
   },
   "id": "e7d89c38a09e7af9",
   "execution_count": 3
  },
  {
   "cell_type": "code",
   "outputs": [
    {
     "name": "stdout",
     "output_type": "stream",
     "text": [
      "Found 21715 images belonging to 3 classes.\n"
     ]
    }
   ],
   "source": [
    "\n",
    "# --- 2. Class Imbalance Handling ---\n",
    "img_width, img_height = 128, 128 \n",
    "\n",
    "train_datagen_no_aug = ImageDataGenerator(rescale=1./255)\n",
    "train_generator_no_aug = train_datagen_no_aug.flow_from_directory(\n",
    "    train_dir,\n",
    "    target_size=(img_width, img_height),\n",
    "    batch_size=32,\n",
    "    class_mode='categorical',\n",
    "    shuffle=False\n",
    ")\n",
    "\n",
    "class_weights = compute_class_weight(\n",
    "    'balanced',\n",
    "    classes=np.unique(train_generator_no_aug.classes),\n",
    "    y=train_generator_no_aug.classes\n",
    ")\n",
    "class_weight_dict = dict(enumerate(class_weights))"
   ],
   "metadata": {
    "collapsed": false,
    "ExecuteTime": {
     "end_time": "2024-05-11T20:55:04.812398Z",
     "start_time": "2024-05-11T20:55:04.596681Z"
    }
   },
   "id": "b4c7c75b56cedbb",
   "execution_count": 4
  },
  {
   "cell_type": "code",
   "outputs": [
    {
     "name": "stdout",
     "output_type": "stream",
     "text": [
      "Found 21715 images belonging to 3 classes.\n",
      "Found 5417 images belonging to 3 classes.\n",
      "Found 6566 images belonging to 3 classes.\n"
     ]
    }
   ],
   "source": [
    "\n",
    "# --- 3. Data Preprocessing and Augmentation --- \n",
    "train_datagen = ImageDataGenerator(\n",
    "    rescale=1./255,\n",
    "    shear_range=0.2,\n",
    "    zoom_range=0.2,\n",
    "    horizontal_flip=True,\n",
    ")\n",
    "\n",
    "test_datagen = ImageDataGenerator(rescale=1./255)\n",
    "\n",
    "train_generator = train_datagen.flow_from_directory(\n",
    "    train_dir,\n",
    "    target_size=(img_width, img_height),\n",
    "    batch_size=32,\n",
    "    class_mode='categorical',\n",
    "    shuffle=True\n",
    ")\n",
    "\n",
    "validation_generator = test_datagen.flow_from_directory(\n",
    "    val_dir,\n",
    "    target_size=(img_width, img_height),\n",
    "    batch_size=32,\n",
    "    class_mode='categorical'\n",
    ")\n",
    "\n",
    "test_generator = test_datagen.flow_from_directory(\n",
    "    test_dir,\n",
    "    target_size=(img_width, img_height),\n",
    "    batch_size=32,\n",
    "    class_mode='categorical'\n",
    ")"
   ],
   "metadata": {
    "collapsed": false,
    "ExecuteTime": {
     "end_time": "2024-05-11T20:55:05.075027Z",
     "start_time": "2024-05-11T20:55:04.814154Z"
    }
   },
   "id": "46106c8dd0dd186e",
   "execution_count": 5
  },
  {
   "cell_type": "code",
   "outputs": [],
   "source": [
    "\n",
    "# --- 4. Custom CNN Model --- \n",
    "model = Sequential()\n",
    "model.add(Conv2D(32, (3, 3), activation='relu', kernel_regularizer=l2(0.001),\n",
    "input_shape=(img_width, img_height, 3)))\n",
    "model.add(MaxPooling2D(pool_size=(2, 2)))\n",
    "model.add(Conv2D(64, (3, 3), activation='relu', kernel_regularizer=l2(0.001)))\n",
    "model.add(MaxPooling2D(pool_size=(2, 2)))\n",
    "model.add(Conv2D(128, (3, 3), activation='relu', kernel_regularizer=l2(0.001)))\n",
    "model.add(MaxPooling2D(pool_size=(2, 2)))\n",
    "model.add(Flatten())\n",
    "model.add(Dense(128, activation='relu'))\n",
    "model.add(Dropout(0.5))\n",
    "model.add(Dense(3, activation='softmax'))"
   ],
   "metadata": {
    "collapsed": false
   },
   "id": "6bdf040a3c6e5dcb",
   "execution_count": null
  },
  {
   "cell_type": "code",
   "outputs": [
    {
     "name": "stdout",
     "output_type": "stream",
     "text": [
      "Model: \"sequential\"\n",
      "_________________________________________________________________\n",
      " Layer (type)                Output Shape              Param #   \n",
      "=================================================================\n",
      " conv2d (Conv2D)             (None, 126, 126, 32)      896       \n",
      "                                                                 \n",
      " max_pooling2d (MaxPooling2D  (None, 63, 63, 32)       0         \n",
      " )                                                               \n",
      "                                                                 \n",
      " conv2d_1 (Conv2D)           (None, 61, 61, 64)        18496     \n",
      "                                                                 \n",
      " max_pooling2d_1 (MaxPooling  (None, 30, 30, 64)       0         \n",
      " 2D)                                                             \n",
      "                                                                 \n",
      " conv2d_2 (Conv2D)           (None, 28, 28, 128)       73856     \n",
      "                                                                 \n",
      " max_pooling2d_2 (MaxPooling  (None, 14, 14, 128)      0         \n",
      " 2D)                                                             \n",
      "                                                                 \n",
      " flatten (Flatten)           (None, 25088)             0         \n",
      "                                                                 \n",
      " dense (Dense)               (None, 128)               3211392   \n",
      "                                                                 \n",
      " dropout (Dropout)           (None, 128)               0         \n",
      "                                                                 \n",
      " dense_1 (Dense)             (None, 3)                 387       \n",
      "                                                                 \n",
      "=================================================================\n",
      "Total params: 3,305,027\n",
      "Trainable params: 3,305,027\n",
      "Non-trainable params: 0\n",
      "_________________________________________________________________\n"
     ]
    }
   ],
   "source": [
    "model.summary()"
   ],
   "metadata": {
    "collapsed": false,
    "ExecuteTime": {
     "end_time": "2024-05-12T05:11:09.374755Z",
     "start_time": "2024-05-12T05:11:09.357432Z"
    }
   },
   "id": "c90094322c443595",
   "execution_count": 11
  },
  {
   "cell_type": "code",
   "outputs": [
    {
     "name": "stdout",
     "output_type": "stream",
     "text": [
      "Metal device set to: Apple M1\n"
     ]
    },
    {
     "name": "stderr",
     "output_type": "stream",
     "text": [
      "2024-05-12 02:25:05.085109: I tensorflow/core/common_runtime/pluggable_device/pluggable_device_factory.cc:305] Could not identify NUMA node of platform GPU ID 0, defaulting to 0. Your kernel may not have been built with NUMA support.\n",
      "2024-05-12 02:25:05.085365: I tensorflow/core/common_runtime/pluggable_device/pluggable_device_factory.cc:271] Created TensorFlow device (/job:localhost/replica:0/task:0/device:GPU:0 with 0 MB memory) -> physical PluggableDevice (device: 0, name: METAL, pci bus id: <undefined>)\n"
     ]
    },
    {
     "name": "stdout",
     "output_type": "stream",
     "text": [
      "Epoch 1/20\n"
     ]
    },
    {
     "name": "stderr",
     "output_type": "stream",
     "text": [
      "2024-05-12 02:25:05.652575: W tensorflow/core/platform/profile_utils/cpu_utils.cc:128] Failed to get CPU frequency: 0 Hz\n",
      "2024-05-12 02:25:05.917103: I tensorflow/core/grappler/optimizers/custom_graph_optimizer_registry.cc:113] Plugin optimizer for device_type GPU is enabled.\n"
     ]
    },
    {
     "name": "stdout",
     "output_type": "stream",
     "text": [
      "679/679 [==============================] - ETA: 0s - loss: 0.9025 - accuracy: 0.6135"
     ]
    },
    {
     "name": "stderr",
     "output_type": "stream",
     "text": [
      "2024-05-12 02:26:10.341543: I tensorflow/core/grappler/optimizers/custom_graph_optimizer_registry.cc:113] Plugin optimizer for device_type GPU is enabled.\n"
     ]
    },
    {
     "name": "stdout",
     "output_type": "stream",
     "text": [
      "679/679 [==============================] - 72s 103ms/step - loss: 0.9025 - accuracy: 0.6135 - val_loss: 0.6985 - val_accuracy: 0.7233\n",
      "Epoch 2/20\n",
      "679/679 [==============================] - 100s 148ms/step - loss: 0.7311 - accuracy: 0.7090 - val_loss: 0.5985 - val_accuracy: 0.7759\n",
      "Epoch 3/20\n",
      "679/679 [==============================] - 123s 181ms/step - loss: 0.6737 - accuracy: 0.7315 - val_loss: 0.5480 - val_accuracy: 0.8056\n",
      "Epoch 4/20\n",
      "679/679 [==============================] - 141s 207ms/step - loss: 0.6276 - accuracy: 0.7516 - val_loss: 0.5306 - val_accuracy: 0.7960\n",
      "Epoch 5/20\n",
      "679/679 [==============================] - 145s 214ms/step - loss: 0.6019 - accuracy: 0.7688 - val_loss: 0.5143 - val_accuracy: 0.8141\n",
      "Epoch 6/20\n",
      "679/679 [==============================] - 160s 236ms/step - loss: 0.5811 - accuracy: 0.7779 - val_loss: 0.4853 - val_accuracy: 0.8279\n",
      "Epoch 7/20\n",
      "679/679 [==============================] - 179s 264ms/step - loss: 0.5517 - accuracy: 0.7913 - val_loss: 0.4478 - val_accuracy: 0.8420\n",
      "Epoch 8/20\n",
      "679/679 [==============================] - 206s 303ms/step - loss: 0.5390 - accuracy: 0.7992 - val_loss: 0.4896 - val_accuracy: 0.8207\n",
      "Epoch 9/20\n",
      "679/679 [==============================] - 208s 306ms/step - loss: 0.5276 - accuracy: 0.8018 - val_loss: 0.4327 - val_accuracy: 0.8519\n",
      "Epoch 10/20\n",
      "679/679 [==============================] - 223s 328ms/step - loss: 0.5103 - accuracy: 0.8095 - val_loss: 0.4487 - val_accuracy: 0.8484\n",
      "Epoch 11/20\n",
      "679/679 [==============================] - 224s 330ms/step - loss: 0.4995 - accuracy: 0.8175 - val_loss: 0.4258 - val_accuracy: 0.8591\n",
      "Epoch 12/20\n",
      "679/679 [==============================] - 222s 327ms/step - loss: 0.4888 - accuracy: 0.8203 - val_loss: 0.4029 - val_accuracy: 0.8595\n",
      "Epoch 13/20\n",
      "679/679 [==============================] - 210s 309ms/step - loss: 0.4730 - accuracy: 0.8273 - val_loss: 0.4321 - val_accuracy: 0.8495\n",
      "Epoch 14/20\n",
      "679/679 [==============================] - 194s 286ms/step - loss: 0.4650 - accuracy: 0.8304 - val_loss: 0.4408 - val_accuracy: 0.8438\n",
      "Epoch 15/20\n",
      "679/679 [==============================] - 125s 184ms/step - loss: 0.4586 - accuracy: 0.8327 - val_loss: 0.3810 - val_accuracy: 0.8724\n",
      "Epoch 16/20\n",
      "679/679 [==============================] - 123s 181ms/step - loss: 0.4527 - accuracy: 0.8344 - val_loss: 0.3903 - val_accuracy: 0.8652\n",
      "Epoch 17/20\n",
      "679/679 [==============================] - 123s 181ms/step - loss: 0.4521 - accuracy: 0.8358 - val_loss: 0.4099 - val_accuracy: 0.8647\n",
      "Epoch 18/20\n",
      "679/679 [==============================] - 120s 176ms/step - loss: 0.4365 - accuracy: 0.8431 - val_loss: 0.4462 - val_accuracy: 0.8379\n",
      "Epoch 19/20\n",
      "679/679 [==============================] - 121s 178ms/step - loss: 0.4346 - accuracy: 0.8427 - val_loss: 0.3813 - val_accuracy: 0.8678\n",
      "Epoch 20/20\n",
      "679/679 [==============================] - 119s 175ms/step - loss: 0.4282 - accuracy: 0.8465 - val_loss: 0.3904 - val_accuracy: 0.8652\n"
     ]
    }
   ],
   "source": [
    "\n",
    "# --- 5. Compile and Train ---\n",
    "model.compile(optimizer='adam', loss='categorical_crossentropy', metrics=['accuracy'])\n",
    "history = model.fit(\n",
    "    train_generator,\n",
    "    epochs=20,\n",
    "    validation_data=validation_generator\n",
    ")"
   ],
   "metadata": {
    "collapsed": false,
    "ExecuteTime": {
     "end_time": "2024-05-11T21:47:24.000160Z",
     "start_time": "2024-05-11T20:55:05.075816Z"
    }
   },
   "id": "b93c1ebd79878b70",
   "execution_count": 6
  },
  {
   "cell_type": "code",
   "outputs": [
    {
     "data": {
      "text/plain": "<Figure size 640x480 with 1 Axes>",
      "image/png": "[encoded data removed]"
     },
     "metadata": {},
     "output_type": "display_data"
    }
   ],
   "source": [
    "plt.plot(history.history['accuracy'], label='Training Accuracy')\n",
    "plt.plot(history.history['val_accuracy'], label='Validation Accuracy')\n",
    "plt.xlabel('Epoch')\n",
    "plt.ylabel('Accuracy')\n",
    "plt.legend()\n",
    "plt.show()"
   ],
   "metadata": {
    "collapsed": false,
    "ExecuteTime": {
     "end_time": "2024-05-12T05:10:39.818390Z",
     "start_time": "2024-05-12T05:10:38.683293Z"
    }
   },
   "id": "5e91bbbd55333b1a",
   "execution_count": 10
  },
  {
   "cell_type": "code",
   "outputs": [
    {
     "name": "stdout",
     "output_type": "stream",
     "text": [
      "206/206 [==============================] - 13s 62ms/step - loss: 0.3555 - accuracy: 0.8873\n",
      "Test accuracy: 0.8872982263565063\n"
     ]
    }
   ],
   "source": [
    "\n",
    "# --- 6. Evaluate the Model ---\n",
    "test_loss, test_acc = model.evaluate(test_generator)\n",
    "print('Test accuracy:', test_acc)"
   ],
   "metadata": {
    "collapsed": false,
    "ExecuteTime": {
     "end_time": "2024-05-11T21:47:37.062423Z",
     "start_time": "2024-05-11T21:47:24.014381Z"
    }
   },
   "id": "d28b3ac3a985ec46",
   "execution_count": 7
  },
  {
   "cell_type": "code",
   "outputs": [],
   "source": [
    "\n",
    "# --- 7. Save the Model ---\n",
    "model.save('chest_model.h5')"
   ],
   "metadata": {
    "collapsed": false,
    "ExecuteTime": {
     "end_time": "2024-05-12T05:10:08.859497Z",
     "start_time": "2024-05-12T05:10:08.216242Z"
    }
   },
   "id": "bd23dc5e6900f635",
   "execution_count": 9
  }
 ],
 "metadata": {
  "kernelspec": {
   "name": "python3",
   "language": "python",
   "display_name": "Python 3 (ipykernel)"
  },
  "language_info": {
   "codemirror_mode": {
    "name": "ipython",
    "version": 2
   },
   "file_extension": ".py",
   "mimetype": "text/x-python",
   "name": "python",
   "nbconvert_exporter": "python",
   "pygments_lexer": "ipython2",
   "version": "2.7.6"
  },
  "colab": {
   "provenance": [],
   "gpuType": "T4"
  },
  "accelerator": "GPU"
 },
 "nbformat": 4,
 "nbformat_minor": 5
}
