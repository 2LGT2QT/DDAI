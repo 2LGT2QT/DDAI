{
 "cells": [
  {
   "cell_type": "code",
   "outputs": [],
   "source": [
    "import tensorflow as tf\n",
    "from tensorflow.keras.preprocessing.image import ImageDataGenerator\n",
    "from tensorflow.keras.models import Sequential\n",
    "from tensorflow.keras.layers import Conv2D, MaxPooling2D, Flatten, Dense, Dropout\n",
    "from tensorflow.keras.regularizers import l2\n",
    "from sklearn.utils.class_weight import compute_class_weight\n",
    "import numpy as np\n",
    "import os\n",
    "import matplotlib.pyplot as plt"
   ],
   "metadata": {
    "collapsed": false,
    "ExecuteTime": {
     "end_time": "2024-05-12T04:25:21.890776Z",
     "start_time": "2024-05-12T04:25:21.885943Z"
    }
   },
   "id": "791906d69fece683",
   "execution_count": 59
  },
  {
   "cell_type": "code",
   "outputs": [],
   "source": [
    "# --- 1. Data Paths ---\n",
    "base_dir = '/Users/sreehari/PycharmProjects/FInal_Project/datasets/Alzheimer'\n",
    "train_dir = os.path.join(base_dir, 'train')\n",
    "val_dir = os.path.join(base_dir, 'val')\n",
    "test_dir = os.path.join(base_dir, 'test')"
   ],
   "metadata": {
    "collapsed": false,
    "ExecuteTime": {
     "end_time": "2024-05-12T04:25:21.899134Z",
     "start_time": "2024-05-12T04:25:21.895913Z"
    }
   },
   "id": "e7d89c38a09e7af9",
   "execution_count": 60
  },
  {
   "cell_type": "code",
   "outputs": [
    {
     "name": "stdout",
     "output_type": "stream",
     "text": [
      "Found 25024 images belonging to 3 classes.\n"
     ]
    }
   ],
   "source": [
    "# --- 2. Class Imbalance Handling ---\n",
    "img_width, img_height = 128, 128 \n",
    "\n",
    "train_datagen_no_aug = ImageDataGenerator(rescale=1./255)\n",
    "train_generator_no_aug = train_datagen_no_aug.flow_from_directory(\n",
    "    train_dir,\n",
    "    target_size=(img_width, img_height),\n",
    "    batch_size=32,\n",
    "    class_mode='categorical'\n",
    ")\n",
    "\n",
    "class_weights = compute_class_weight(\n",
    "    'balanced',\n",
    "    classes=np.unique(train_generator_no_aug.classes),\n",
    "    y=train_generator_no_aug.classes\n",
    ")\n",
    "class_weight_dict = dict(enumerate(class_weights))"
   ],
   "metadata": {
    "collapsed": false,
    "ExecuteTime": {
     "end_time": "2024-05-12T04:25:22.098991Z",
     "start_time": "2024-05-12T04:25:21.901029Z"
    }
   },
   "id": "b4c7c75b56cedbb",
   "execution_count": 61
  },
  {
   "cell_type": "code",
   "outputs": [
    {
     "name": "stdout",
     "output_type": "stream",
     "text": [
      "Found 25024 images belonging to 3 classes.\n",
      "Found 5004 images belonging to 3 classes.\n",
      "Found 3446 images belonging to 3 classes.\n"
     ]
    }
   ],
   "source": [
    "\n",
    "# --- 3. Data Preprocessing and Augmentation --- \n",
    "train_datagen = ImageDataGenerator(\n",
    "    rescale=1./255,\n",
    "    shear_range=0.2,\n",
    "    zoom_range=0.2,\n",
    "    horizontal_flip=True\n",
    ")\n",
    "\n",
    "test_datagen = ImageDataGenerator(rescale=1./255)\n",
    "\n",
    "train_generator = train_datagen.flow_from_directory(\n",
    "    train_dir,\n",
    "    target_size=(img_width, img_height),\n",
    "    batch_size=32,\n",
    "    class_mode='categorical',\n",
    "    shuffle=True\n",
    ")\n",
    "\n",
    "test_generator = test_datagen.flow_from_directory(\n",
    "    test_dir,\n",
    "    target_size=(img_width, img_height),\n",
    "    batch_size=32,\n",
    "    class_mode='categorical'\n",
    ")\n",
    "validation_generator = test_datagen.flow_from_directory(\n",
    "    val_dir,\n",
    "    target_size=(img_width, img_height),\n",
    "    batch_size=32,\n",
    "    class_mode='categorical'\n",
    ")\n"
   ],
   "metadata": {
    "collapsed": false,
    "ExecuteTime": {
     "end_time": "2024-05-12T04:25:22.342097Z",
     "start_time": "2024-05-12T04:25:22.100011Z"
    }
   },
   "id": "46106c8dd0dd186e",
   "execution_count": 62
  },
  {
   "cell_type": "code",
   "outputs": [],
   "source": [
    "# --- 4. Custom CNN Model --- \n",
    "model = Sequential()\n",
    "model.add(Conv2D(32, (3, 3), activation='relu', kernel_regularizer=l2(0.001),\n",
    "input_shape=(img_width, img_height, 3)))\n",
    "model.add(MaxPooling2D(pool_size=(2, 2)))\n",
    "model.add(Conv2D(64, (3, 3), activation='relu', kernel_regularizer=l2(0.001)))\n",
    "model.add(MaxPooling2D(pool_size=(2, 2)))\n",
    "model.add(Conv2D(128, (3, 3), activation='relu', kernel_regularizer=l2(0.001)))\n",
    "model.add(MaxPooling2D(pool_size=(2, 2)))\n",
    "model.add(Flatten())\n",
    "model.add(Dense(128, activation='relu'))\n",
    "model.add(Dropout(0.5))\n",
    "model.add(Dense(3, activation='softmax'))"
   ],
   "metadata": {
    "collapsed": false,
    "ExecuteTime": {
     "end_time": "2024-05-12T04:25:22.388034Z",
     "start_time": "2024-05-12T04:25:22.342711Z"
    }
   },
   "id": "531d9f8a796892d8",
   "execution_count": 63
  },
  {
   "cell_type": "code",
   "outputs": [
    {
     "name": "stdout",
     "output_type": "stream",
     "text": [
      "Model: \"sequential_4\"\n",
      "_________________________________________________________________\n",
      " Layer (type)                Output Shape              Param #   \n",
      "=================================================================\n",
      " conv2d_12 (Conv2D)          (None, 126, 126, 32)      896       \n",
      "                                                                 \n",
      " max_pooling2d_12 (MaxPoolin  (None, 63, 63, 32)       0         \n",
      " g2D)                                                            \n",
      "                                                                 \n",
      " conv2d_13 (Conv2D)          (None, 61, 61, 64)        18496     \n",
      "                                                                 \n",
      " max_pooling2d_13 (MaxPoolin  (None, 30, 30, 64)       0         \n",
      " g2D)                                                            \n",
      "                                                                 \n",
      " conv2d_14 (Conv2D)          (None, 28, 28, 128)       73856     \n",
      "                                                                 \n",
      " max_pooling2d_14 (MaxPoolin  (None, 14, 14, 128)      0         \n",
      " g2D)                                                            \n",
      "                                                                 \n",
      " flatten_4 (Flatten)         (None, 25088)             0         \n",
      "                                                                 \n",
      " dense_8 (Dense)             (None, 128)               3211392   \n",
      "                                                                 \n",
      " dropout_4 (Dropout)         (None, 128)               0         \n",
      "                                                                 \n",
      " dense_9 (Dense)             (None, 3)                 387       \n",
      "                                                                 \n",
      "=================================================================\n",
      "Total params: 3,305,027\n",
      "Trainable params: 3,305,027\n",
      "Non-trainable params: 0\n",
      "_________________________________________________________________\n"
     ]
    }
   ],
   "source": [
    "# Display the model summary\n",
    "model.summary()"
   ],
   "metadata": {
    "collapsed": false,
    "ExecuteTime": {
     "end_time": "2024-05-12T04:25:22.397674Z",
     "start_time": "2024-05-12T04:25:22.389344Z"
    }
   },
   "id": "e88a28b23c034102",
   "execution_count": 64
  },
  {
   "cell_type": "code",
   "outputs": [
    {
     "name": "stdout",
     "output_type": "stream",
     "text": [
      "Epoch 1/20\n"
     ]
    },
    {
     "name": "stderr",
     "output_type": "stream",
     "text": [
      "2024-05-12 09:55:22.705187: I tensorflow/core/grappler/optimizers/custom_graph_optimizer_registry.cc:113] Plugin optimizer for device_type GPU is enabled.\n"
     ]
    },
    {
     "name": "stdout",
     "output_type": "stream",
     "text": [
      "782/782 [==============================] - ETA: 0s - loss: 0.7165 - accuracy: 0.6873"
     ]
    },
    {
     "name": "stderr",
     "output_type": "stream",
     "text": [
      "2024-05-12 09:56:20.023900: I tensorflow/core/grappler/optimizers/custom_graph_optimizer_registry.cc:113] Plugin optimizer for device_type GPU is enabled.\n"
     ]
    },
    {
     "name": "stdout",
     "output_type": "stream",
     "text": [
      "782/782 [==============================] - 61s 78ms/step - loss: 0.7165 - accuracy: 0.6873 - val_loss: 0.4285 - val_accuracy: 0.8201\n",
      "Epoch 2/20\n",
      "782/782 [==============================] - 62s 80ms/step - loss: 0.4438 - accuracy: 0.8243 - val_loss: 0.3710 - val_accuracy: 0.8377\n",
      "Epoch 3/20\n",
      "782/782 [==============================] - 69s 88ms/step - loss: 0.3732 - accuracy: 0.8590 - val_loss: 0.2727 - val_accuracy: 0.9199\n",
      "Epoch 4/20\n",
      "782/782 [==============================] - 72s 92ms/step - loss: 0.3305 - accuracy: 0.8802 - val_loss: 0.2541 - val_accuracy: 0.9231\n",
      "Epoch 5/20\n",
      "782/782 [==============================] - 74s 95ms/step - loss: 0.2960 - accuracy: 0.8971 - val_loss: 0.1868 - val_accuracy: 0.9472\n",
      "Epoch 6/20\n",
      "782/782 [==============================] - 73s 94ms/step - loss: 0.2723 - accuracy: 0.9096 - val_loss: 0.1831 - val_accuracy: 0.9516\n",
      "Epoch 7/20\n",
      "782/782 [==============================] - 75s 95ms/step - loss: 0.2547 - accuracy: 0.9172 - val_loss: 0.2133 - val_accuracy: 0.9363\n",
      "Epoch 8/20\n",
      "782/782 [==============================] - 75s 96ms/step - loss: 0.2372 - accuracy: 0.9276 - val_loss: 0.1519 - val_accuracy: 0.9622\n",
      "Epoch 9/20\n",
      "782/782 [==============================] - 78s 100ms/step - loss: 0.2226 - accuracy: 0.9328 - val_loss: 0.1390 - val_accuracy: 0.9672\n",
      "Epoch 10/20\n",
      "782/782 [==============================] - 80s 103ms/step - loss: 0.2138 - accuracy: 0.9369 - val_loss: 0.1595 - val_accuracy: 0.9658\n",
      "Epoch 11/20\n",
      "782/782 [==============================] - 88s 113ms/step - loss: 0.2047 - accuracy: 0.9425 - val_loss: 0.1275 - val_accuracy: 0.9720\n",
      "Epoch 12/20\n",
      "782/782 [==============================] - 87s 111ms/step - loss: 0.1975 - accuracy: 0.9443 - val_loss: 0.1304 - val_accuracy: 0.9712\n",
      "Epoch 13/20\n",
      "782/782 [==============================] - 85s 109ms/step - loss: 0.1898 - accuracy: 0.9475 - val_loss: 0.1211 - val_accuracy: 0.9740\n",
      "Epoch 14/20\n",
      "782/782 [==============================] - 100s 128ms/step - loss: 0.1860 - accuracy: 0.9484 - val_loss: 0.1183 - val_accuracy: 0.9774\n",
      "Epoch 15/20\n",
      "782/782 [==============================] - 91s 116ms/step - loss: 0.1795 - accuracy: 0.9511 - val_loss: 0.1031 - val_accuracy: 0.9836\n",
      "Epoch 16/20\n",
      "782/782 [==============================] - 87s 111ms/step - loss: 0.1748 - accuracy: 0.9536 - val_loss: 0.1188 - val_accuracy: 0.9782\n",
      "Epoch 17/20\n",
      "782/782 [==============================] - 104s 133ms/step - loss: 0.1711 - accuracy: 0.9537 - val_loss: 0.1068 - val_accuracy: 0.9854\n",
      "Epoch 18/20\n",
      "782/782 [==============================] - 104s 133ms/step - loss: 0.1682 - accuracy: 0.9560 - val_loss: 0.1030 - val_accuracy: 0.9802\n",
      "Epoch 19/20\n",
      "782/782 [==============================] - 105s 134ms/step - loss: 0.1647 - accuracy: 0.9576 - val_loss: 0.1052 - val_accuracy: 0.9818\n",
      "Epoch 20/20\n",
      "782/782 [==============================] - 89s 114ms/step - loss: 0.1611 - accuracy: 0.9583 - val_loss: 0.1011 - val_accuracy: 0.9816\n"
     ]
    }
   ],
   "source": [
    "\n",
    "# --- 5. Compile and Train ---\n",
    "model.compile(optimizer='adam', loss='categorical_crossentropy', metrics=['accuracy'])\n",
    "history = model.fit(\n",
    "    train_generator,\n",
    "    epochs=20,\n",
    "    validation_data=validation_generator\n",
    ")"
   ],
   "metadata": {
    "collapsed": false,
    "ExecuteTime": {
     "end_time": "2024-05-12T04:53:03.159218Z",
     "start_time": "2024-05-12T04:25:22.398323Z"
    }
   },
   "id": "b93c1ebd79878b70",
   "execution_count": 65
  },
  {
   "cell_type": "code",
   "outputs": [
    {
     "name": "stdout",
     "output_type": "stream",
     "text": [
      "108/108 [==============================] - 4s 36ms/step - loss: 0.0733 - accuracy: 0.9968\n",
      "Test accuracy: 0.996807873249054\n"
     ]
    }
   ],
   "source": [
    "\n",
    "# --- 6. Evaluate the Model ---\n",
    "test_loss, test_acc = model.evaluate(test_generator)\n",
    "print('Test accuracy:', test_acc)"
   ],
   "metadata": {
    "collapsed": false,
    "ExecuteTime": {
     "end_time": "2024-05-12T04:53:07.170852Z",
     "start_time": "2024-05-12T04:53:03.172301Z"
    }
   },
   "id": "d28b3ac3a985ec46",
   "execution_count": 66
  },
  {
   "cell_type": "code",
   "outputs": [
    {
     "data": {
      "text/plain": "<Figure size 640x480 with 1 Axes>",
      "image/png": "[encoded data removed]"
     },
     "metadata": {},
     "output_type": "display_data"
    }
   ],
   "source": [
    "# --- 7. Plot Accuracy ---\n",
    "plt.plot(history.history['accuracy'], label='Training Accuracy')\n",
    "plt.plot(history.history['val_accuracy'], label='Validation Accuracy')\n",
    "plt.xlabel('Epoch')\n",
    "plt.ylabel('Accuracy')\n",
    "plt.legend()\n",
    "plt.show()"
   ],
   "metadata": {
    "collapsed": false,
    "ExecuteTime": {
     "end_time": "2024-05-12T04:53:07.372261Z",
     "start_time": "2024-05-12T04:53:07.172618Z"
    }
   },
   "id": "dbe6942a7cf9b851",
   "execution_count": 67
  },
  {
   "cell_type": "code",
   "outputs": [],
   "source": [
    "\n",
    "# --- 7. Save the Model  ---\n",
    "model.save('alzheimers_model.h5')"
   ],
   "metadata": {
    "collapsed": false,
    "ExecuteTime": {
     "end_time": "2024-05-12T04:57:41.638015Z",
     "start_time": "2024-05-12T04:57:41.497063Z"
    }
   },
   "id": "bd23dc5e6900f635",
   "execution_count": 71
  }
 ],
 "metadata": {
  "kernelspec": {
   "name": "python3",
   "language": "python",
   "display_name": "Python 3 (ipykernel)"
  },
  "language_info": {
   "codemirror_mode": {
    "name": "ipython",
    "version": 2
   },
   "file_extension": ".py",
   "mimetype": "text/x-python",
   "name": "python",
   "nbconvert_exporter": "python",
   "pygments_lexer": "ipython2",
   "version": "2.7.6"
  },
  "colab": {
   "provenance": [],
   "gpuType": "T4"
  },
  "accelerator": "GPU"
 },
 "nbformat": 4,
 "nbformat_minor": 5
}
